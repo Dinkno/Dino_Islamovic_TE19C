{
 "metadata": {
  "language_info": {
   "codemirror_mode": {
    "name": "ipython",
    "version": 3
   },
   "file_extension": ".py",
   "mimetype": "text/x-python",
   "name": "python",
   "nbconvert_exporter": "python",
   "pygments_lexer": "ipython3",
   "version": "3.8.3-final"
  },
  "orig_nbformat": 2,
  "kernelspec": {
   "name": "python_defaultSpec_1599650200928",
   "display_name": "Python 3.8.3 64-bit ('base': conda)"
  }
 },
 "nbformat": 4,
 "nbformat_minor": 2,
 "cells": [
  {
   "cell_type": "markdown",
   "metadata": {},
   "source": [
    "$F = mg$"
   ]
  },
  {
   "cell_type": "code",
   "execution_count": 14,
   "metadata": {
    "tags": []
   },
   "outputs": [
    {
     "output_type": "stream",
     "name": "stdout",
     "text": "Din tyngdkraft är 9.82N\n"
    }
   ],
   "source": [
    "# skapar en variabel g och tilldelar den värdet 9.82\n",
    "g = 9.82\n",
    "\n",
    "# input ger oss en sträng, float typomvandlar den till flytal\n",
    "m = float(input(\"Hur mycket väger du? \"))\n",
    "\n",
    "F = m*g\n",
    "print(f\"Din tyngdkraft är {F}N\")"
   ]
  },
  {
   "cell_type": "markdown",
   "metadata": {},
   "source": []
  },
  {
   "cell_type": "code",
   "execution_count": 1,
   "metadata": {
    "tags": []
   },
   "outputs": [
    {
     "output_type": "stream",
     "name": "stdout",
     "text": "0.123= 12%\n0.123 = 12 %\n"
    }
   ],
   "source": [
    "decimalTal = float(input(\"Ange ett decimaltal: \"))\n",
    "procent = decimalTal*100\n",
    "\n",
    "print(f\"{decimalTal}= {procent:.0f}%\")\n",
    "print(decimalTal,\"=\",round(procent),\"%\")"
   ]
  },
  {
   "cell_type": "code",
   "execution_count": 5,
   "metadata": {
    "tags": []
   },
   "outputs": [
    {
     "output_type": "stream",
     "name": "stdout",
     "text": "Temperaturen:26.9C\n"
    }
   ],
   "source": [
    "kelvin = float(input(\"Omvandla kelvin till celsius: \"))\n",
    "celsius = kelvin-273.15\n",
    "print(f\"Temperaturen:{celsius:.1f}C\" )\n",
    "# print(\"Temperaturen:\",round(celsius),\"C\")"
   ]
  },
  {
   "cell_type": "code",
   "execution_count": 3,
   "metadata": {
    "tags": []
   },
   "outputs": [
    {
     "output_type": "stream",
     "name": "stdout",
     "text": "Temperaturen:300.29999999999995K\n"
    }
   ],
   "source": [
    "celsius = float(input(\"Omvandla celsius till kelvin: \"))\n",
    "kelvin = celsius+273.15\n",
    "print(f\"Temperaturen:{kelvin:.1f}K\")"
   ]
  },
  {
   "cell_type": "code",
   "execution_count": 10,
   "metadata": {
    "tags": []
   },
   "outputs": [
    {
     "output_type": "stream",
     "name": "stdout",
     "text": "Det är mer värt att köpa månadskort och kosnaden blir:775kr\n"
    }
   ],
   "source": [
    "engångsbiljett = 30\n",
    "månadskort = 775\n",
    "antal = float(input(\"hur många gånger åker du med västtrafik i månaden?\" ))\n",
    "\n",
    "if antal < 26:\n",
    "    print(f\"Det är mer värt att köpa engångs biljeter och kosnaden blir:{antal*engångsbiljett}kr\")\n",
    "else:\n",
    "    print(f\"Det är mer värt att köpa månadskort och kosnaden blir:{månadskort}kr\")"
   ]
  },
  {
   "cell_type": "code",
   "execution_count": null,
   "metadata": {},
   "outputs": [],
   "source": []
  }
 ]
}