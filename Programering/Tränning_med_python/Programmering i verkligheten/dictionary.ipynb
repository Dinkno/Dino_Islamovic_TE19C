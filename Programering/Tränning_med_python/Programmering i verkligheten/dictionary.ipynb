{
 "metadata": {
  "language_info": {
   "codemirror_mode": {
    "name": "ipython",
    "version": 3
   },
   "file_extension": ".py",
   "mimetype": "text/x-python",
   "name": "python",
   "nbconvert_exporter": "python",
   "pygments_lexer": "ipython3",
   "version": "3.8.3-final"
  },
  "orig_nbformat": 2,
  "kernelspec": {
   "name": "python3",
   "display_name": "Python 3.8.3 64-bit (conda)",
   "metadata": {
    "interpreter": {
     "hash": "3c7f8c324b0520741d8f7dcc7afd9611bd920f49d9711a9df0efb36f32ad44d3"
    }
   }
  }
 },
 "nbformat": 4,
 "nbformat_minor": 2,
 "cells": [
  {
   "source": [
    "# Genomgång (code along)"
   ],
   "cell_type": "markdown",
   "metadata": {}
  },
  {
   "cell_type": "code",
   "execution_count": 37,
   "metadata": {},
   "outputs": [
    {
     "output_type": "stream",
     "name": "stdout",
     "text": [
      "Dino är Elev och jobbar på NTI\n{'namn': 'Dino', 'ålder': '18', 'yrke': 'Elev', 'arbetsplats': 'NTI'}\n"
     ]
    }
   ],
   "source": [
    "# Syntac för dictionary\n",
    "person = dict(\n",
    "    namn = \"Dino\",\n",
    "    ålder = \"18\",\n",
    "    yrke = \"Elev\",\n",
    "    arbetsplats = \"NTI\"\n",
    ")\n",
    "\n",
    "print(f\"{person['namn']} är {person['yrke']} och jobbar på {person['arbetsplats']}\")\n",
    "print(person)"
   ]
  },
  {
   "cell_type": "code",
   "execution_count": 15,
   "metadata": {},
   "outputs": [
    {
     "output_type": "stream",
     "name": "stdout",
     "text": [
      "Ord vi behöver lära oss: \ntilldela  \t ge ett värde till en variable\ndatastruktur  \t strukturering av data\nsträng  \t sekvens av tecken\ndictionary  \t datastruktur för att spara data i key:value par\n\n\nGlosLista\ntilldela  \t ge ett värde till en variable\ndatastruktur  \t strukturering av data\nsträng  \t sekvens av tecken\ndictionary  \t datastruktur för att spara data i key:value par\n"
     ]
    }
   ],
   "source": [
    "# syntax med {}\n",
    "glosor = {\n",
    "    \"tilldela\":\"ge ett värde till en variable\",\n",
    "    \"datastruktur\": \"strukturering av data\",\n",
    "    \"sträng\":\"sekvens av tecken\"\n",
    "\n",
    "}\n",
    "\n",
    "#lägg till ett element \n",
    "glosor[\"dictionary\"] = \"datastruktur för att spara data i key:value par\"\n",
    "\n",
    "\"\"\"print(glosor[\"tilldela\"])\n",
    "print(glosor[\"sträng\"])\n",
    "print(glosor[\"dictionary\"])\"\"\"\n",
    "\n",
    "print(\"Ord vi behöver lära oss: \")\n",
    "#ett sätt att loopa igenom en dictionary\n",
    "for key in glosor:\n",
    "    print(f\"{key}  \\t {glosor[key]}\")\n",
    "\n",
    "print(\"\\n\\nGlosLista\")\n",
    "# ett annat sätt\n",
    "for key, value in glosor.items():\n",
    "    print(f\"{key}  \\t {value}\")"
   ]
  },
  {
   "cell_type": "code",
   "execution_count": 21,
   "metadata": {},
   "outputs": [
    {
     "output_type": "stream",
     "name": "stdout",
     "text": [
      "False\näta\n"
     ]
    }
   ],
   "source": [
    "husdjur = {\n",
    "    \"djur\": \"fisk\",\n",
    "    \"ålder\": 5,\n",
    "    \"ätbar\": False,\n",
    "    \"actions\": [\"simma fram\", \"simma bak\", \"äta\"]\n",
    "}\n",
    "\n",
    "print(husdjur[\"ätbar\"])\n",
    "print(husdjur[\"actions\"][2])"
   ]
  },
  {
   "source": [
    "# Övningar"
   ],
   "cell_type": "markdown",
   "metadata": {}
  },
  {
   "cell_type": "code",
   "execution_count": 7,
   "metadata": {},
   "outputs": [
    {
     "output_type": "stream",
     "name": "stdout",
     "text": [
      "matte   \t  \t  100\nfysik   \t  \t  150\nengelska   \t  \t  100\nwebbutveckling   \t  \t  100\nsvenska   \t  \t  100\nprogramering   \t  \t  100\ndaodac   \t  \t  100\nidrott   \t  \t  100\n\n\nTotala suman av poängen 850\n"
     ]
    }
   ],
   "source": [
    "# 1\n",
    "poäng = 0\n",
    "\n",
    "kurser = {\n",
    "    \"matte\": 100,\n",
    "    \"fysik\": 150,\n",
    "    \"engelska\": 100,\n",
    "    \"webbutveckling\": 100,\n",
    "    \"svenska\": 100,\n",
    "    \"programering\": 100,\n",
    "    \"daodac\": 100,\n",
    "    \"idrott\": 100\n",
    "}\n",
    "for key in kurser:\n",
    "    print(f\"{key}   \\t  \\t  {kurser[key]}\")\n",
    "    poäng += kurser[key]\n",
    "print(\"\\n\")\n",
    "print(f\"Totala suman av poängen {poäng}\")"
   ]
  },
  {
   "cell_type": "code",
   "execution_count": 33,
   "metadata": {},
   "outputs": [
    {
     "output_type": "stream",
     "name": "stdout",
     "text": [
      "1: 16589\n2: 16542\n3: 16872\n4: 16817\n5: 16646\n6: 16534\n"
     ]
    }
   ],
   "source": [
    "# 2\n",
    "import random as rnd\n",
    "\n",
    "Tärningskast = {\n",
    "    \"1\": 0,\n",
    "    \"2\": 0,\n",
    "    \"3\": 0,\n",
    "    \"4\": 0,\n",
    "    \"5\": 0,\n",
    "    \"6\": 0\n",
    "}\n",
    "\n",
    "for i in range(100000):\n",
    "    x = rnd.randint(1,6)\n",
    "    for j in range(1,7):\n",
    "        if x == j:\n",
    "            Tärningskast[f\"{j}\"] += 1\n",
    "\n",
    "for key in Tärningskast:\n",
    "    print(f\"{key}: {Tärningskast[key]}\")"
   ]
  },
  {
   "cell_type": "code",
   "execution_count": 4,
   "metadata": {},
   "outputs": [
    {
     "output_type": "stream",
     "name": "stdout",
     "text": [
      "Typ: Elektrisk, 25\n"
     ]
    }
   ],
   "source": [
    "# 3\n",
    "pokedex = {}\n",
    "# Felhanteringen är bara ett bonus, jag tyckte att uppgiften var skoj.\n",
    "\n",
    "with open(\"filer/pokemonlista.txt\", \"r\") as f:\n",
    "    for rad in f:\n",
    "        lst = rad.split()\n",
    "        pokedex[lst[1]]=f\"Typ: {lst[2]}, {lst[0]}\"\n",
    "\n",
    "while True:\n",
    "    try:  \n",
    "        pokemon = str(input(\"Vilken pokemon söker du efter? \"))\n",
    "        print(pokedex[pokemon])\n",
    "        break\n",
    "    except KeyError:\n",
    "        print(\"Kolla att du har stavat rätt och har stor bokstav\")\n"
   ]
  },
  {
   "cell_type": "code",
   "execution_count": null,
   "metadata": {},
   "outputs": [],
   "source": []
  }
 ]
}