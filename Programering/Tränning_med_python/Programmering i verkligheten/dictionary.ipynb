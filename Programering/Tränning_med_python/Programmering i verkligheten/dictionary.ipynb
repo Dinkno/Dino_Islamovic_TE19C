{
 "metadata": {
  "language_info": {
   "codemirror_mode": {
    "name": "ipython",
    "version": 3
   },
   "file_extension": ".py",
   "mimetype": "text/x-python",
   "name": "python",
   "nbconvert_exporter": "python",
   "pygments_lexer": "ipython3",
   "version": "3.8.3-final"
  },
  "orig_nbformat": 2,
  "kernelspec": {
   "name": "python3",
   "display_name": "Python 3.8.3 64-bit (conda)",
   "metadata": {
    "interpreter": {
     "hash": "3c7f8c324b0520741d8f7dcc7afd9611bd920f49d9711a9df0efb36f32ad44d3"
    }
   }
  }
 },
 "nbformat": 4,
 "nbformat_minor": 2,
 "cells": [
  {
   "source": [
    "# Genomgång (code along)"
   ],
   "cell_type": "markdown",
   "metadata": {}
  },
  {
   "cell_type": "code",
   "execution_count": 22,
   "metadata": {},
   "outputs": [
    {
     "output_type": "stream",
     "name": "stdout",
     "text": [
      "Dino är Elev och jobbar på NTI\n{'namn': 'Dino', 'ålder': '18', 'yrke': 'Elev', 'arbetsplats': 'NTI'}\n"
     ]
    }
   ],
   "source": [
    "# Syntac för dictionary\n",
    "person = dict(\n",
    "    namn = \"Dino\",\n",
    "    ålder = \"18\",\n",
    "    yrke = \"Elev\",\n",
    "    arbetsplats = \"NTI\"\n",
    ")\n",
    "\n",
    "print(f\"{person['namn']} är {person['yrke']} och jobbar på {person['arbetsplats']}\")\n",
    "print(person)"
   ]
  },
  {
   "cell_type": "code",
   "execution_count": 15,
   "metadata": {},
   "outputs": [
    {
     "output_type": "stream",
     "name": "stdout",
     "text": [
      "Ord vi behöver lära oss: \ntilldela  \t ge ett värde till en variable\ndatastruktur  \t strukturering av data\nsträng  \t sekvens av tecken\ndictionary  \t datastruktur för att spara data i key:value par\n\n\nGlosLista\ntilldela  \t ge ett värde till en variable\ndatastruktur  \t strukturering av data\nsträng  \t sekvens av tecken\ndictionary  \t datastruktur för att spara data i key:value par\n"
     ]
    }
   ],
   "source": [
    "# syntax med {}\n",
    "glosor = {\n",
    "    \"tilldela\":\"ge ett värde till en variable\",\n",
    "    \"datastruktur\": \"strukturering av data\",\n",
    "    \"sträng\":\"sekvens av tecken\"\n",
    "\n",
    "}\n",
    "\n",
    "#lägg till ett element \n",
    "glosor[\"dictionary\"] = \"datastruktur för att spara data i key:value par\"\n",
    "\n",
    "\"\"\"print(glosor[\"tilldela\"])\n",
    "print(glosor[\"sträng\"])\n",
    "print(glosor[\"dictionary\"])\"\"\"\n",
    "\n",
    "print(\"Ord vi behöver lära oss: \")\n",
    "#ett sätt att loopa igenom en dictionary\n",
    "for key in glosor:\n",
    "    print(f\"{key}  \\t {glosor[key]}\")\n",
    "\n",
    "print(\"\\n\\nGlosLista\")\n",
    "# ett annat sätt\n",
    "for key, value in glosor.items():\n",
    "    print(f\"{key}  \\t {value}\")"
   ]
  },
  {
   "cell_type": "code",
   "execution_count": 21,
   "metadata": {},
   "outputs": [
    {
     "output_type": "stream",
     "name": "stdout",
     "text": [
      "False\näta\n"
     ]
    }
   ],
   "source": [
    "husdjur = {\n",
    "    \"djur\": \"fisk\",\n",
    "    \"ålder\": 5,\n",
    "    \"ätbar\": False,\n",
    "    \"actions\": [\"simma fram\", \"simma bak\", \"äta\"]\n",
    "}\n",
    "\n",
    "print(husdjur[\"ätbar\"])\n",
    "print(husdjur[\"actions\"][2])"
   ]
  },
  {
   "source": [
    "# Övningar"
   ],
   "cell_type": "markdown",
   "metadata": {}
  },
  {
   "cell_type": "code",
   "execution_count": null,
   "metadata": {},
   "outputs": [],
   "source": []
  }
 ]
}