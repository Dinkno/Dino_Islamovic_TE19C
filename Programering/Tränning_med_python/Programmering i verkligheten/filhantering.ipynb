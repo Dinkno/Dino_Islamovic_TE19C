{
 "metadata": {
  "language_info": {
   "codemirror_mode": {
    "name": "ipython",
    "version": 3
   },
   "file_extension": ".py",
   "mimetype": "text/x-python",
   "name": "python",
   "nbconvert_exporter": "python",
   "pygments_lexer": "ipython3",
   "version": "3.8.3-final"
  },
  "orig_nbformat": 2,
  "kernelspec": {
   "name": "python3",
   "display_name": "Python 3.8.3 64-bit (conda)",
   "metadata": {
    "interpreter": {
     "hash": "3c7f8c324b0520741d8f7dcc7afd9611bd920f49d9711a9df0efb36f32ad44d3"
    }
   }
  }
 },
 "nbformat": 4,
 "nbformat_minor": 2,
 "cells": [
  {
   "source": [
    "# Code Along"
   ],
   "cell_type": "markdown",
   "metadata": {}
  },
  {
   "source": [
    "try:\n",
    "    with open(\"filer/Stora forskare.txt\", \"r\") as f1:\n",
    "        for rad in f1:\n",
    "            print(rad, end=\"\")\n",
    "except FileNotFoundError:\n",
    "    print(\"Filen hittades inte, checka stavningen\")"
   ],
   "cell_type": "code",
   "metadata": {},
   "execution_count": null,
   "outputs": []
  },
  {
   "source": [
    "    with open(\"filer/Stora forskare.txt\", \"r\") as f1:\n",
    "        for rad in f1:\n",
    "            print(rad, end=\"\")"
   ],
   "cell_type": "code",
   "metadata": {},
   "execution_count": null,
   "outputs": []
  },
  {
   "source": [
    "före1800 = []\n",
    "\n",
    "with open(\"filer/Stora forskare.txt\", \"r\") as f1:\n",
    "    for rad in f1:\n",
    "        #tar bort blanksteg och rad brytningar i början och slutet av varje rad\n",
    "        rad = rad.strip(\" \\n\")\n",
    "        print(rad)\n",
    "        # plocka ut året och typomvandla till int\n",
    "        år = int(rad[-10:-6])\n",
    "        # checka om året < 1800, lägg till i en lista¨\n",
    "        if år < 1800:\n",
    "            före1800.append(rad[0:-11])\n",
    "print(\"\\n\")\n",
    "print(före1800)"
   ],
   "cell_type": "code",
   "metadata": {},
   "execution_count": 1,
   "outputs": [
    {
     "output_type": "stream",
     "name": "stdout",
     "text": [
      "Isaac Newton 1643-01-04\nGallileo Gallilei 1564-02-15\nLeonhard Euler 1707-04-15\nAlbert Einstein 1879-03-14\nCarl Friedrich Gauss 1799-04-30\nStephen Hawking 1942-01-08\n\n\n['Isaac Newton', 'Gallileo Gallilei', 'Leonhard Euler', 'Carl Friedrich Gauss']\n"
     ]
    }
   ]
  },
  {
   "cell_type": "code",
   "execution_count": 8,
   "metadata": {},
   "outputs": [],
   "source": [
    "with open(\"filer/Stora forskare.txt\", \"r\") as f1, open(\"filer/Stora forskare 2.txt\", \"w\") as f2:\n",
    "    for rad in f1:\n",
    "        rad = rad.strip(\" \") # removes trailing and leading spaces\n",
    "        f2.write(rad)\n",
    "\n",
    "    f2.write(\"Andrew Wiles 1953-04-11\\n\")"
   ]
  },
  {
   "cell_type": "code",
   "execution_count": 1,
   "metadata": {},
   "outputs": [],
   "source": [
    "with open(\"filer/Stora forskare 2.txt\", \"w\") as f1: # \"w\" (Write mode) Skriver över gamla filen.\n",
    "    f1.write(\"Marie Curie 1867-11-07\")"
   ]
  },
  {
   "cell_type": "code",
   "execution_count": 9,
   "metadata": {},
   "outputs": [],
   "source": [
    "with open(\"filer/Stora forskare 2.txt\", \"a\") as f1: # \"a\" (append) lägger till i slutet av filen.\n",
    "    f1.write(\"Pierre Curie 1859-05-15\\n\")"
   ]
  },
  {
   "source": [
    "# Övningshäfte\n"
   ],
   "cell_type": "markdown",
   "metadata": {}
  },
  {
   "cell_type": "code",
   "execution_count": 155,
   "metadata": {},
   "outputs": [],
   "source": [
    "#1\n",
    "#(a)\n",
    "import random as rnd\n",
    "with open(\"filer/diceRoll.txt\", \"w\") as f:\n",
    "    \n",
    "    List = []\n",
    "    femmor = 0\n",
    "\n",
    "    for i in range(10):\n",
    "        dice = rnd.randint(1,6)\n",
    "        List.append(dice)\n",
    "    f.write(f\"10 tärningskast: {List}\\n\")\n",
    "#(b)\n",
    "    List.sort()\n",
    "    f.write(f\"Tärningskassten sorterade: {List}\\n\")\n",
    "#(c)\n",
    "    for tal in range(10):\n",
    "        if List[tal] == 5:\n",
    "            femmor +=1\n",
    "\n",
    "    f.write(f\"Antal femmor i listan: {femmor}\")"
   ]
  },
  {
   "cell_type": "code",
   "execution_count": 44,
   "metadata": {},
   "outputs": [
    {
     "output_type": "stream",
     "name": "stdout",
     "text": [
      "Adam Gustafsson 25\nBjÃ¶rn BjÃ¶rnsson 39\nBose Bosseson 32\nElla Ester 41\nEmil Johansson 23\nEmma Boden 32\nErik Eriksson 31\nFredrika Ulven 10\nGore Bord 55\nHanna Karlsson 23 \nHÃ¥kan HÃ¥kanson 24\nIda HÃ¥kansson 23\nJakob Kallander 65\nJohan Johansson 42\nJonas Jonasson 31\nKarl Karlsson 32\nOve Karlsten 41\nSven Erik Karlsson 13\nSven Erik Lundin 39\n"
     ]
    }
   ],
   "source": [
    "lst = []\n",
    "\n",
    "with open(\"filer/Provresultat.txt\", \"r\") as f:\n",
    "    for rad in f:\n",
    "        rad = rad.strip(\"\\n\")\n",
    "        lst.append(rad)\n",
    "    lst.sort()\n",
    "    for mening in range(len(lst)):\n",
    "        print(f\"{lst[mening]}\")\n"
   ]
  },
  {
   "cell_type": "code",
   "execution_count": null,
   "metadata": {},
   "outputs": [],
   "source": []
  }
 ]
}