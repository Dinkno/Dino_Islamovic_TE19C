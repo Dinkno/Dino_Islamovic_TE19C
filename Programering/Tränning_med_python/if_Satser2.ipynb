{
 "metadata": {
  "language_info": {
   "codemirror_mode": {
    "name": "ipython",
    "version": 3
   },
   "file_extension": ".py",
   "mimetype": "text/x-python",
   "name": "python",
   "nbconvert_exporter": "python",
   "pygments_lexer": "ipython3",
   "version": "3.8.3-final"
  },
  "orig_nbformat": 2,
  "kernelspec": {
   "name": "python_defaultSpec_1600411211713",
   "display_name": "Python 3.8.3 64-bit ('base': conda)"
  }
 },
 "nbformat": 4,
 "nbformat_minor": 2,
 "cells": [
  {
   "source": [
    "# ProvBetyg\n",
    "\n",
    "X = Antalet poäng\n",
    "\n",
    "A = $x >60$\n",
    "\n",
    "B = 56-60\n",
    "\n",
    "C = 51-55\n",
    "\n",
    "D = 41-50\n",
    "\n",
    "E = 31-40\n",
    "\n",
    "F = x <= 30\n",
    "\n",
    "Slumpa fram en poäng mellan 0 och 65 och ge ett betyg till eleven."
   ],
   "cell_type": "markdown",
   "metadata": {}
  },
  {
   "cell_type": "code",
   "execution_count": 44,
   "metadata": {
    "tags": []
   },
   "outputs": [
    {
     "output_type": "error",
     "ename": "IndentationError",
     "evalue": "expected an indented block (<ipython-input-44-bedd74c3c303>, line 27)",
     "traceback": [
      "\u001b[1;36m  File \u001b[1;32m\"<ipython-input-44-bedd74c3c303>\"\u001b[1;36m, line \u001b[1;32m27\u001b[0m\n\u001b[1;33m    print(x and f\"Eleven {elev} fick {poang} poäng, vilket ger betyget {betyg}\")\u001b[0m\n\u001b[1;37m    ^\u001b[0m\n\u001b[1;31mIndentationError\u001b[0m\u001b[1;31m:\u001b[0m expected an indented block\n"
     ]
    }
   ],
   "source": [
    "import random as rnd\n",
    "\n",
    "# Slumpar ett tal mellan 0 - 65\n",
    "poang = rnd.randint(0,65)\n",
    "\n",
    "# Skapar en lista som håller 6 strängar\n",
    "Klass = [\"1\", \"2\", \"3\", \"4\", \"5\", \"6\"]\n",
    "\n",
    "elev = rnd.choice(Klass)\n",
    "\n",
    "#Alternativ 2\n",
    "if poang <= 30:\n",
    "    betyg = \"F\"\n",
    "elif poang <= 40:\n",
    "    betyg = \"E\"\n",
    "elif poang <= 50:\n",
    "    betyg = \"D\"\n",
    "elif poang <= 55:\n",
    "    betyg = \"C\"\n",
    "elif poang <= 60:\n",
    "    betyg = \"B\"\n",
    "else:\n",
    "    betyg = \"A\"\n",
    "\n",
    "for x in Klass:\n",
    "\n",
    "print(x and f\"Eleven {elev} fick {poang} poäng, vilket ger betyget {betyg}\")\n",
    "\n",
    "# Utökningen av programet: gör ett for-sats som loopar igenom klassen och tar bort elever som vi har använt.\n",
    "\n"
   ]
  },
  {
   "cell_type": "code",
   "execution_count": null,
   "metadata": {},
   "outputs": [],
   "source": [
    "# Alternativ 1\n",
    "if poang > 60:\n",
    "    betyg = \"A\"\n",
    "elif poang <= 60 and poang >= 56:\n",
    "    betyg = \"B\"\n",
    "elif poang <= 60 and poang >= 56:\n",
    "    betyg = \"C\"\n",
    "elif poang <= 60 and poang >= 56:\n",
    "    betyg = \"D\"\n",
    "elif poang <= 60 and poang >= 56:\n",
    "    betyg = \"E\"\n",
    "else:\n",
    "    betyg = \"F\"\n",
    "\n",
    "print(poang)\n",
    "print(Klass[1])\n",
    "\n",
    "print(f\"Poäng {poang} och betyget {betyg}\")"
   ]
  }
 ]
}