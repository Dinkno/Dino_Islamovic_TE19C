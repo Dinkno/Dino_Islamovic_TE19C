{
 "metadata": {
  "language_info": {
   "codemirror_mode": {
    "name": "ipython",
    "version": 3
   },
   "file_extension": ".py",
   "mimetype": "text/x-python",
   "name": "python",
   "nbconvert_exporter": "python",
   "pygments_lexer": "ipython3",
   "version": "3.8.3-final"
  },
  "orig_nbformat": 2,
  "kernelspec": {
   "name": "Python 3.8.3 64-bit ('base': conda)",
   "display_name": "Python 3.8.3 64-bit ('base': conda)",
   "metadata": {
    "interpreter": {
     "hash": "3c7f8c324b0520741d8f7dcc7afd9611bd920f49d9711a9df0efb36f32ad44d3"
    }
   }
  }
 },
 "nbformat": 4,
 "nbformat_minor": 2,
 "cells": [
  {
   "cell_type": "code",
   "execution_count": 32,
   "metadata": {
    "tags": []
   },
   "outputs": [
    {
     "output_type": "stream",
     "name": "stdout",
     "text": "45\n"
    }
   ],
   "source": [
    "s = 0\n",
    "\n",
    "for i in range(1,10):\n",
    "    s += i\n",
    "print(s)"
   ]
  },
  {
   "source": [
    "# skriv ut alla tal 1-100"
   ],
   "cell_type": "markdown",
   "metadata": {}
  },
  {
   "cell_type": "code",
   "execution_count": 36,
   "metadata": {
    "tags": []
   },
   "outputs": [
    {
     "output_type": "stream",
     "name": "stdout",
     "text": "1 2 3 4 5 6 7 8 9 10 11 12 13 14 15 16 17 18 19 20 21 22 23 24 25 26 27 28 29 30 31 32 33 34 35 36 37 38 39 40 41 42 43 44 45 46 47 48 49 50 51 52 53 54 55 56 57 58 59 60 61 62 63 64 65 66 67 68 69 70 71 72 73 74 75 76 77 78 79 80 81 82 83 84 85 86 87 88 89 90 91 92 93 94 95 96 97 98 99 100"
    }
   ],
   "source": [
    "\n",
    "for i in range(1, 101):\n",
    "    print(i, end =\" \")\n"
   ]
  },
  {
   "cell_type": "code",
   "execution_count": 37,
   "metadata": {
    "tags": []
   },
   "outputs": [
    {
     "output_type": "stream",
     "name": "stdout",
     "text": "50 51 52 53 54 55 56 57 58 59 60 61 62 63 64 65 66 67 68 69 70 71 72 73 74 75 76 77 78 79 80 81 82 83 84 85 86 87 88 89 90 91 92 93 94 95 96 97 98 99 100"
    }
   ],
   "source": [
    "#50 - 10\n",
    "for j in range(50,101):\n",
    "    print(j, end =\" \")"
   ]
  },
  {
   "cell_type": "code",
   "execution_count": 51,
   "metadata": {
    "tags": []
   },
   "outputs": [
    {
     "output_type": "stream",
     "name": "stdout",
     "text": "100 99 98 97 96 95 94 93 92 91 90 89 88 87 86 85 84 83 82 81 80 79 78 77 76 75 74 73 72 71 70 69 68 67 66 65 64 63 62 61 60 59 58 57 56 55 54 53 52 51 50"
    }
   ],
   "source": [
    "# 100 till 50\n",
    "for k in range(100,49,-1):\n",
    "    print(k, end =\" \")"
   ]
  },
  {
   "source": [
    "# Övningar for-satser\n",
    "\n",
    "$1+2+3+...+9+10$"
   ],
   "cell_type": "markdown",
   "metadata": {}
  },
  {
   "cell_type": "code",
   "execution_count": 60,
   "metadata": {
    "tags": []
   },
   "outputs": [
    {
     "output_type": "stream",
     "name": "stdout",
     "text": "1+2+3....+9+10 = 55\n"
    }
   ],
   "source": [
    "s = 0\n",
    "\n",
    "for i in range(11):\n",
    "    s += i\n",
    "\n",
    "print(f\"1+2+3....+9+10 = {s}\")"
   ]
  },
  {
   "cell_type": "code",
   "execution_count": 74,
   "metadata": {
    "tags": []
   },
   "outputs": [
    {
     "output_type": "stream",
     "name": "stdout",
     "text": "1 2 3 4 5 6 7 8 9 10"
    }
   ],
   "source": [
    "\n",
    "for i in range(1,11):\n",
    "    print(i, end=\" \")"
   ]
  },
  {
   "cell_type": "code",
   "execution_count": 77,
   "metadata": {
    "tags": []
   },
   "outputs": [
    {
     "output_type": "stream",
     "name": "stdout",
     "text": "-10 -9 -8 -7 -6 -5 -4 -3 -2 -1 0 1 2 3 4 5 6 7 8 9 10"
    }
   ],
   "source": [
    "\n",
    "\n",
    "for i in range(-10, 11):    \n",
    "    print(i, end=\" \")"
   ]
  },
  {
   "cell_type": "code",
   "execution_count": 78,
   "metadata": {
    "tags": []
   },
   "outputs": [
    {
     "output_type": "stream",
     "name": "stdout",
     "text": "10 9 8 7 6 5 4 3 2 1"
    }
   ],
   "source": [
    "for i in range(10,0,-1):\n",
    "    print(i, end=\" \")"
   ]
  },
  {
   "cell_type": "code",
   "execution_count": 81,
   "metadata": {
    "tags": []
   },
   "outputs": [
    {
     "output_type": "stream",
     "name": "stdout",
     "text": "s = 1+2+3...+99+100 = 5050\n"
    }
   ],
   "source": [
    "s = 0\n",
    "\n",
    "for i in range(0,101):\n",
    "    s += i\n",
    "\n",
    "print(f\"s = 1+2+3...+99+100 = {s}\")"
   ]
  },
  {
   "cell_type": "code",
   "execution_count": 83,
   "metadata": {
    "tags": []
   },
   "outputs": [
    {
     "output_type": "stream",
     "name": "stdout",
     "text": "s = 1+3+5...+99 = 2450\n"
    }
   ],
   "source": [
    "s = 0\n",
    "\n",
    "for i in range(0,100,2):\n",
    "    s += i\n",
    "\n",
    "print(f\"s = 1+3+5...+99 = {s}\")"
   ]
  },
  {
   "cell_type": "code",
   "execution_count": 1,
   "metadata": {
    "tags": []
   },
   "outputs": [
    {
     "output_type": "stream",
     "name": "stdout",
     "text": "5 10 15 20 25 30 35 40 45 50 "
    }
   ],
   "source": [
    "s = 5 \n",
    "\n",
    "for i in range(1,11):\n",
    "    i *=s\n",
    "    print(i, end=\" \")"
   ]
  },
  {
   "cell_type": "code",
   "execution_count": 12,
   "metadata": {
    "tags": []
   },
   "outputs": [
    {
     "output_type": "stream",
     "name": "stdout",
     "text": "1 2 3 4 5 6 7 8 9 10  \n2 4 6 8 10 12 14 16 18 20  \n3 6 9 12 15 18 21 24 27 30  \n4 8 12 16 20 24 28 32 36 40  \n5 10 15 20 25 30 35 40 45 50  \n6 12 18 24 30 36 42 48 54 60  \n7 14 21 28 35 42 49 56 63 70  \n8 16 24 32 40 48 56 64 72 80  \n9 18 27 36 45 54 63 72 81 90  \n10 20 30 40 50 60 70 80 90 100"
    }
   ],
   "source": [
    "\n",
    "for i in range(1,11):\n",
    "    i *=1\n",
    "    print(i, end=\" \")\n",
    "\n",
    "print(\" \")\n",
    "\n",
    "for a in range(1,11):\n",
    "    a *=2\n",
    "    print(a, end=\" \")\n",
    "\n",
    "print(\" \")\n",
    "\n",
    "for b in range(1,11):\n",
    "    b *=3\n",
    "    print(b, end=\" \")\n",
    "\n",
    "print(\" \")\n",
    "\n",
    "for c in range(1,11):\n",
    "    c *=4\n",
    "    print(c, end=\" \")\n",
    "\n",
    "print(\" \")\n",
    "\n",
    "for d in range(1,11):\n",
    "    d *=5\n",
    "    print(d, end=\" \")\n",
    "\n",
    "print(\" \")\n",
    "\n",
    "for e in range(1,11):\n",
    "    e *=6\n",
    "    print(e, end=\" \")\n",
    "\n",
    "print(\" \")\n",
    "\n",
    "for f in range(1,11):\n",
    "    f *=7\n",
    "    print(f, end=\" \")\n",
    "\n",
    "print(\" \")\n",
    "\n",
    "for g in range(1,11):\n",
    "    g *=8\n",
    "    print(g, end=\" \")\n",
    "\n",
    "print(\" \")\n",
    "\n",
    "for h in range(1,11):\n",
    "    h *=9\n",
    "    print(h, end=\" \")\n",
    "\n",
    "print(\" \")\n",
    "\n",
    "for j in range(1,11):\n",
    "    j *=10\n",
    "    print(j, end=\" \")\n"
   ]
  },
  {
   "cell_type": "code",
   "execution_count": 21,
   "metadata": {
    "tags": []
   },
   "outputs": [
    {
     "output_type": "stream",
     "name": "stdout",
     "text": "10 20 30 40 50 60 70 80 90 100 "
    }
   ],
   "source": [
    "p = float(input(\"Vilken multiplikationstabell vill du ha?:\" ))\n",
    "\n",
    "for i in range(1,11):\n",
    "    i *= p\n",
    "    print(int(i), end=\" \")"
   ]
  },
  {
   "cell_type": "code",
   "execution_count": null,
   "metadata": {},
   "outputs": [],
   "source": []
  }
 ]
}