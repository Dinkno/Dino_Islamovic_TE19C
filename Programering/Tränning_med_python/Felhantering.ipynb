{
 "metadata": {
  "language_info": {
   "codemirror_mode": {
    "name": "ipython",
    "version": 3
   },
   "file_extension": ".py",
   "mimetype": "text/x-python",
   "name": "python",
   "nbconvert_exporter": "python",
   "pygments_lexer": "ipython3",
   "version": "3.8.3-final"
  },
  "orig_nbformat": 2,
  "kernelspec": {
   "name": "python3",
   "display_name": "Python 3",
   "language": "python"
  }
 },
 "nbformat": 4,
 "nbformat_minor": 2,
 "cells": [
  {
   "source": [
    "# Redovisning:"
   ],
   "cell_type": "markdown",
   "metadata": {}
  },
  {
   "cell_type": "code",
   "execution_count": 7,
   "metadata": {},
   "outputs": [
    {
     "output_type": "stream",
     "name": "stdout",
     "text": [
      "Du är barn\n"
     ]
    }
   ],
   "source": [
    "while True:\n",
    "    try:\n",
    "        ålder = float(input(\"Hur gammal är du?\"))\n",
    "        #Detta löser ettlogiskt fel\n",
    "        assert ålder >= 0 and ålder < 125, \"Din ålder ska vara mellan 0 - 124\"\n",
    "        break #Hoppar ut från while-satsen\n",
    "    except AssertionError as msg:\n",
    "        print(msg)\n",
    "    except:\n",
    "        print(\"Ålder ska vara ett tal och inte en sträng\")\n",
    "    \n",
    "\n",
    "if ålder >= 18:\n",
    "    print(\"Du är vuxen\")\n",
    "else:\n",
    "    print(\"Du är barn\")"
   ]
  },
  {
   "cell_type": "code",
   "execution_count": null,
   "metadata": {},
   "outputs": [],
   "source": [
    "#Låt användare mata in ett antal tal\n",
    "#Skriv ut största talet\n",
    "# Skriv ut minsta talet\n",
    "\n",
    "tal_str = input(\"Skriv in ett antal tal med mellanrum emellan: \")\n",
    "list_str = tal_str.split() #split ger oss en lista, splittar där vi har mellanslag\n",
    "\n",
    "# HÄr kan man lägga in while-sats för att fråga användaren igen\n",
    "try:\n",
    "    # Detta ger en lista av flyttal\n",
    "    tal_lista = [float(x) for x in lista_str]\n",
    "    # Har ,am  ex ange 3 taö --> använder asset för att säkerställa att man\n",
    "    störst = max(tal_lista)\n",
    "    minst = min(tal_lista)\n",
    "    print(f\"Största taler är {störst}, minsta taler är {minst}\")\n",
    "except:\n",
    "    print(\"Felaktiga tal\")\n",
    "\n",
    "\n",
    "\n",
    "print(lista_str)\n",
    "\n",
    " # max([1,2,3])"
   ]
  },
  {
   "source": [
    "# Övningar:"
   ],
   "cell_type": "markdown",
   "metadata": {}
  },
  {
   "cell_type": "code",
   "execution_count": 39,
   "metadata": {},
   "outputs": [
    {
     "output_type": "stream",
     "name": "stdout",
     "text": [
      "0.7071067811865476\n"
     ]
    }
   ],
   "source": [
    "#1\n",
    "\n",
    "import numpy as np #\"import\" var skrivet fel.\n",
    "\n",
    "def distance(p1, p2):\n",
    "    return np.sqrt((p1**2)+(p2**2)) #\"return\" var skrivet fel\n",
    "\n",
    "print(distance(0.5,0.5)) #Det ska inte vara en lista, för listan mostvarar bara p1 delen."
   ]
  },
  {
   "cell_type": "code",
   "execution_count": 35,
   "metadata": {},
   "outputs": [
    {
     "output_type": "stream",
     "name": "stdout",
     "text": [
      "100 är inte fyrsiffrigt\n231 är inte fyrsiffrigt\n10000 är fyrsiffrigt\n100001 är fyrsiffrigt\n-1000 är inte fyrsiffrigt\n102313 är fyrsiffrigt\n"
     ]
    }
   ],
   "source": [
    "#2 \n",
    "\n",
    "def ar_fyrsiffrigt(tal):\n",
    "    if tal < 0:\n",
    "        return False # la till ett logiskt fel som kunde uppstå före.\n",
    "    elif tal //1000: # Ta bort mindre än 10, den gjorde så\n",
    "        return True\n",
    "    else:\n",
    "        return False\n",
    "\n",
    "#Testprogram\n",
    "testtal = [100, 231, 10000, 100001, -1000, 102313]\n",
    "\n",
    "for t in testtal:\n",
    "    if ar_fyrsiffrigt(t):\n",
    "        print(f\"{t} är fyrsiffrigt\")\n",
    "    else:\n",
    "        print(f\"{t} är inte fyrsiffrigt\")"
   ]
  },
  {
   "cell_type": "code",
   "execution_count": 33,
   "metadata": {},
   "outputs": [
    {
     "output_type": "stream",
     "name": "stdout",
     "text": [
      "Du måste skriva in en siffra!\n",
      "Du måste skriva in en siffra!\n",
      "Talet du skrev är orimligt!\n",
      "Talet du skrev är orimligt!\n",
      "Det är bättre att köpa ett månadskort.\n"
     ]
    }
   ],
   "source": [
    "#3 (Jag tog mina egna värde på engångsbiljeter och månadskort)\n",
    "while True:\n",
    "    try:\n",
    "        tal = float(input(\"Hur många gånger i veckan vill du åka spårvagn\"))\n",
    "        assert tal>0 and tal<50\n",
    "        break\n",
    "    except AssertionError:\n",
    "        print(\"Talet du skrev är orimligt!\")\n",
    "    except:\n",
    "        print(\"Du måste skriva in en siffra!\")\n",
    "\n",
    "antal_månad = tal*4 \n",
    "engångskostnad = antal_månad*50\n",
    "månadskostnad = 500\n",
    "\n",
    "if engångskostnad > månadskostnad:\n",
    "    print(\"Det är bättre att köpa ett månadskort.\")\n",
    "else: \n",
    "    print(\"Det är bättre att köpa engångsbiljeter.\")"
   ]
  },
  {
   "cell_type": "code",
   "execution_count": null,
   "metadata": {},
   "outputs": [],
   "source": [
    "\n"
   ]
  }
 ]
}