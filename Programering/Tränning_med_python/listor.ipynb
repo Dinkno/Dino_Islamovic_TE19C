{
 "metadata": {
  "language_info": {
   "codemirror_mode": {
    "name": "ipython",
    "version": 3
   },
   "file_extension": ".py",
   "mimetype": "text/x-python",
   "name": "python",
   "nbconvert_exporter": "python",
   "pygments_lexer": "ipython3",
   "version": "3.8.3-final"
  },
  "orig_nbformat": 2,
  "kernelspec": {
   "name": "python3",
   "display_name": "Python 3"
  }
 },
 "nbformat": 4,
 "nbformat_minor": 2,
 "cells": [
  {
   "source": [
    "# Listor!"
   ],
   "cell_type": "markdown",
   "metadata": {}
  },
  {
   "cell_type": "code",
   "execution_count": 3,
   "metadata": {},
   "outputs": [
    {
     "output_type": "stream",
     "name": "stdout",
     "text": [
      "Fruktlista: ['äpple', 'päron', 'kiwi', 'banan', 'jordgubbe', 'blåbär']\nfrukter[0]: äpple\nfrukter[0]: blåbär\nfrukter[0]: banan\nfrukter[0]: ['blåbär', 'jordgubbe', 'banan', 'kiwi', 'päron', 'äpple']\n\n\nFrukt: äpple\nFrukt: päron\nFrukt: kiwi\nFrukt: banan\nFrukt: jordgubbe\nFrukt: blåbär\n"
     ]
    }
   ],
   "source": [
    "# skapa en lista\n",
    "frukter = [\"äpple\",\"päron\",\"kiwi\",\"banan\",\"jordgubbe\",\"blåbär\"]\n",
    "# indexering/återkomstoperator\n",
    "print(f\"Fruktlista: {frukter}\")\n",
    "print(f\"frukter[0]: {frukter[0]}\")\n",
    "print(f\"frukter[-1]: {frukter[-1]}\")\n",
    "print(f\"frukter[3]: {frukter[3]}\")\n",
    "print(f\"frukter[::-1]: {frukter[::-1]}\")\n",
    "print(\"\\n\")\n",
    "\n",
    "# loopt igenom en lista\n",
    "for frukt in frukter:\n",
    "    print(f\"Frukt: {frukt}\")"
   ]
  },
  {
   "cell_type": "code",
   "execution_count": 5,
   "metadata": {},
   "outputs": [
    {
     "output_type": "stream",
     "name": "stdout",
     "text": [
      "['tomat', 'gurka', 'majs', 'sallad', 'äpple', 'päron', 'kiwi', 'banan', 'jordgubbe', 'blåbär']\n"
     ]
    }
   ],
   "source": [
    "grönsaker = [\"tomat\",\"gurka\",\"majs\",\"sallad\"]\n",
    "frukter = [\"äpple\",\"päron\",\"kiwi\",\"banan\",\"jordgubbe\",\"blåbär\"]\n",
    "fruktsallad = [] # tom lista \n",
    "\n",
    "for grönsak in grönsaker:\n",
    "    fruktsallad.append(grönsak)\n",
    "\n",
    "for frukt in frukter:\n",
    "    fruktsallad.append(frukt)\n",
    "    \n",
    "print(fruktsallad)"
   ]
  },
  {
   "cell_type": "code",
   "execution_count": 8,
   "metadata": {},
   "outputs": [
    {
     "output_type": "stream",
     "name": "stdout",
     "text": [
      "[-2, 0, 2, 4, 6, 8, 10, 12, 14, 16]\n"
     ]
    }
   ],
   "source": [
    "# list comprehension \n",
    "y = [2*x-2 for x in range(10)]\n",
    "print(y)"
   ]
  },
  {
   "cell_type": "code",
   "execution_count": 6,
   "metadata": {},
   "outputs": [
    {
     "output_type": "stream",
     "name": "stdout",
     "text": [
      "  0   0   0   0   0   0   0   0   0   0   0 \n  0   1   2   3   4   5   6   7   8   9  10 \n  0   2   4   6   8  10  12  14  16  18  20 \n  0   3   6   9  12  15  18  21  24  27  30 \n  0   4   8  12  16  20  24  28  32  36  40 \n  0   5  10  15  20  25  30  35  40  45  50 \n  0   6  12  18  24  30  36  42  48  54  60 \n  0   7  14  21  28  35  42  49  56  63  70 \n  0   8  16  24  32  40  48  56  64  72  80 \n  0   9  18  27  36  45  54  63  72  81  90 \n  0  10  20  30  40  50  60  70  80  90 100 \n\ntabell[3]: [0, 3, 6, 9, 12, 15, 18, 21, 24, 27, 30]\ntabell[3][3]: 9\n"
     ]
    }
   ],
   "source": [
    "# 2D lista\n",
    "tabell = []\n",
    "\n",
    "for i in range(11):\n",
    "    rad = [x*i for x in range(11)] # skapar en rad av gånger tabellen\n",
    "    tabell.append(rad)\n",
    "    for j in range(11):\n",
    "        print(f\"{tabell[i][j]:3}\", end=\" \")\n",
    "\n",
    "    print()\n",
    "    \n",
    "print()\n",
    "\n",
    "print(f\"tabell[3]: {tabell[3]}\")\n",
    "print(f\"tabell[3][3]: {tabell[3][3]}\")\n"
   ]
  },
  {
   "source": [
    "# Läxa!"
   ],
   "cell_type": "markdown",
   "metadata": {}
  },
  {
   "cell_type": "code",
   "execution_count": 14,
   "metadata": {},
   "outputs": [
    {
     "output_type": "stream",
     "name": "stdout",
     "text": [
      "[2, 2, 2, 2, 3, 4, 5, 5, 5, 5, 6]\n"
     ]
    }
   ],
   "source": [
    "# 1 a)\n",
    "import random as rnd\n",
    "tärningskast = []\n",
    "\n",
    "for i in range(11):\n",
    "    nummer = int(rnd.uniform(1,7))\n",
    "    tärningskast.append(nummer)\n",
    "\n",
    "tärningskast.sort()\n",
    "print(tärningskast)"
   ]
  },
  {
   "cell_type": "code",
   "execution_count": 52,
   "metadata": {},
   "outputs": [
    {
     "output_type": "error",
     "ename": "SyntaxError",
     "evalue": "invalid syntax (<ipython-input-52-b8efef421577>, line 9)",
     "traceback": [
      "\u001b[1;36m  File \u001b[1;32m\"<ipython-input-52-b8efef421577>\"\u001b[1;36m, line \u001b[1;32m9\u001b[0m\n\u001b[1;33m    tärningskast.sort(;;-1)\u001b[0m\n\u001b[1;37m                      ^\u001b[0m\n\u001b[1;31mSyntaxError\u001b[0m\u001b[1;31m:\u001b[0m invalid syntax\n"
     ]
    }
   ],
   "source": [
    "# 1 b)\n",
    "import random as rnd\n",
    "tärningskast = []\n",
    "\n",
    "for i in range(11):\n",
    "    nummer = int(rnd.uniform(1,7))\n",
    "    tärningskast.append(nummer)\n",
    "\n",
    "tärningskast.sort(::-1)\n",
    "print(tärningskast)"
   ]
  },
  {
   "cell_type": "code",
   "execution_count": null,
   "metadata": {},
   "outputs": [],
   "source": []
  }
 ]
}