{
 "metadata": {
  "language_info": {
   "codemirror_mode": {
    "name": "ipython",
    "version": 3
   },
   "file_extension": ".py",
   "mimetype": "text/x-python",
   "name": "python",
   "nbconvert_exporter": "python",
   "pygments_lexer": "ipython3",
   "version": "3.8.3-final"
  },
  "orig_nbformat": 2,
  "kernelspec": {
   "name": "python3",
   "display_name": "Python 3"
  }
 },
 "nbformat": 4,
 "nbformat_minor": 2,
 "cells": [
  {
   "cell_type": "code",
   "execution_count": 3,
   "metadata": {},
   "outputs": [
    {
     "output_type": "stream",
     "name": "stdout",
     "text": [
      "8\n"
     ]
    }
   ],
   "source": [
    "namn = input(\"Skriv ditt namn här \")\n",
    "print(len(namn))"
   ]
  },
  {
   "cell_type": "code",
   "execution_count": 9,
   "metadata": {},
   "outputs": [
    {
     "output_type": "stream",
     "name": "stdout",
     "text": [
      "15\n"
     ]
    }
   ],
   "source": [
    "mening = \"En bild säger mer än tusen ord, en matematisk formel säger mer än tusen bilder\"\n",
    "\n",
    "split = mening.split(\" \")\n",
    "print(f\"{len(split)}\")"
   ]
  },
  {
   "cell_type": "code",
   "execution_count": 19,
   "metadata": {},
   "outputs": [
    {
     "output_type": "stream",
     "name": "stdout",
     "text": [
      "Ja de är en palindrop\n"
     ]
    }
   ],
   "source": [
    "ord = input(\"Programet säger ifall ordet är en palindrom \")\n",
    "\n",
    "#replace = ord.replace(\" \",\"\")\n",
    "\n",
    "if ord[::-1] == ord:\n",
    "    print(\"Ja de är en palindrop\")\n",
    "else: \n",
    "    print(\"NEJ DU FUKIN DUM\")\n"
   ]
  },
  {
   "cell_type": "code",
   "execution_count": 53,
   "metadata": {},
   "outputs": [
    {
     "output_type": "stream",
     "name": "stdout",
     "text": [
      "Ja de är en palindrop\n"
     ]
    }
   ],
   "source": [
    "ordet = str(input(\"Programet säger ifall ordet är en palindrom \"))\n",
    "\n",
    "a = ordet.replace(\" \",\"\")\n",
    "b = ordet.replace(\",\",\"\")\n",
    "c = ordet.replace(\".\",\"\")\n",
    "\n",
    "if a or b or c[::-1] == a:\n",
    "    print(\"Ja de är en palindrop\")\n",
    "else: \n",
    "    print(\"NEJ\")\n"
   ]
  },
  {
   "cell_type": "code",
   "execution_count": null,
   "metadata": {},
   "outputs": [],
   "source": []
  }
 ]
}