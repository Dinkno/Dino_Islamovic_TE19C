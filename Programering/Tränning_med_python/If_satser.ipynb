{
 "metadata": {
  "language_info": {
   "codemirror_mode": {
    "name": "ipython",
    "version": 3
   },
   "file_extension": ".py",
   "mimetype": "text/x-python",
   "name": "python",
   "nbconvert_exporter": "python",
   "pygments_lexer": "ipython3",
   "version": "3.8.3-final"
  },
  "orig_nbformat": 2,
  "kernelspec": {
   "name": "python_defaultSpec_1600255926416",
   "display_name": "Python 3.8.3 64-bit ('base': conda)"
  }
 },
 "nbformat": 4,
 "nbformat_minor": 2,
 "cells": [
  {
   "cell_type": "code",
   "execution_count": 3,
   "metadata": {
    "tags": []
   },
   "outputs": [
    {
     "output_type": "stream",
     "name": "stdout",
     "text": "Talet är jämnt\n"
    }
   ],
   "source": [
    "tal = int(input(\"Ange tt heltal: \")) # typomvandlar till int (heltal)\n",
    "\n",
    "# med % (modulooperator) --> om tal%2 == 0 --> jämnt, annars udda\n",
    "if tal%2 == 0:\n",
    "    print(\"Talet är jämnt\")\n",
    "else:\n",
    "    print(\"Talet är udda\")"
   ]
  },
  {
   "cell_type": "markdown",
   "metadata": {},
   "source": [
    "# Triangelns vinkel\n",
    "\n",
    "* spetsig\n",
    "* rät\n",
    "* trubbig\n",
    "* annat\n",
    "\n",
    "Rät: $v = 90$\n",
    "\n",
    "Trubbig: $ 90<0 $"
   ]
  },
  {
   "cell_type": "code",
   "execution_count": 6,
   "metadata": {
    "tags": []
   },
   "outputs": [
    {
     "output_type": "stream",
     "name": "stdout",
     "text": "Rät vinkel\n"
    }
   ],
   "source": [
    "vinkel = float(input(\"Ange en vinkel v i grader, där 0 <= v <= 360 :  \"))\n",
    "\n",
    "# 0 <=v < 90 spetisg\n",
    "if vinkel >= 0 and vinkel < 90:\n",
    "    print(\"Spetsig vinkel\")\n",
    "elif vinkel == 90:\n",
    "    print(\"Rät vinkel\")\n",
    "elif vinkel > 90 and vinkel < 180:\n",
    "    print(\"Trubbig vinkel\")\n",
    "else:\n",
    "    print(\"Vinkel är inte spetsig, rät eller trubbig\")"
   ]
  },
  {
   "cell_type": "markdown",
   "metadata": {},
   "source": [
    "# Övningar \n",
    "If-Satser 1-10\n"
   ]
  },
  {
   "cell_type": "code",
   "execution_count": 2,
   "metadata": {
    "tags": []
   },
   "outputs": [
    {
     "output_type": "stream",
     "name": "stdout",
     "text": "Talet är negativt\n"
    }
   ],
   "source": [
    "tal = float(input(\"Ange ett possitivt eller negativt tal: \"))\n",
    "\n",
    "if tal <= 0:\n",
    "    print(\"Talet är negativt\")\n",
    "elif tal == 0:\n",
    "    print(\"Talet är lika med noll\")\n",
    "else:\n",
    "    print(\"Talet är possitivt\")\n"
   ]
  },
  {
   "cell_type": "code",
   "execution_count": 13,
   "metadata": {
    "tags": []
   },
   "outputs": [
    {
     "output_type": "stream",
     "name": "stdout",
     "text": "Talet är jämnt\n"
    }
   ],
   "source": [
    "tal = float(input(\"Ange ett jämnt eller udda tal: \"))\n",
    "\n",
    "if tal%5 == 0:\n",
    "    print(\"Talet är delbart med 5\")\n",
    "elif tal%2 == 0: \n",
    "    print(\"Talet är jämnt\")\n",
    "else:\n",
    "    print(\"Talet är udda\")"
   ]
  },
  {
   "cell_type": "code",
   "execution_count": 15,
   "metadata": {
    "tags": []
   },
   "outputs": [
    {
     "output_type": "stream",
     "name": "stdout",
     "text": "Vinkeln är trubbig\n"
    }
   ],
   "source": [
    "vinkel = float(input(\"Ange en vinkel i en crikel \"))\n",
    "\n",
    "if vinkel == 90:\n",
    "    print(\"Vinkeln är räyvinklad\")\n",
    "elif vinkel >= 0 and vinkel < 90:\n",
    "    print(\"Vinkeln är spetsig\")\n",
    "elif vinkel >= 90 and vinkel < 180:\n",
    "    print(\"Vinkeln är trubbig\")\n",
    "elif vinkel == 180:\n",
    "    print(\"Vinkeln är rak\")\n",
    "elif vinkel > 180 and vinkel < 360:\n",
    "    print(\"Vinkeln är konvex\")\n",
    "else:\n",
    "    print(\"Det är en hel vinkel\")"
   ]
  },
  {
   "cell_type": "code",
   "execution_count": null,
   "metadata": {},
   "outputs": [],
   "source": [
    "radie = int(input(\"Ange en radie i en cirkel (cm): \"))\n",
    "\n",
    "omkrets = (radie^2)3,14\n",
    "area = radie2*3,14\n",
    "\n",
    "if radie > 0:\n",
    "    print(f\"Omkretsen är {omkrets}cm och arean är {area}cm\")\n",
    "elif 0 <= radie:\n",
    "    print(\"Du kan bara skriva in positiva tal\")\n"
   ]
  }
 ]
}