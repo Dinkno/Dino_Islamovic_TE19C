{
 "metadata": {
  "language_info": {
   "codemirror_mode": {
    "name": "ipython",
    "version": 3
   },
   "file_extension": ".py",
   "mimetype": "text/x-python",
   "name": "python",
   "nbconvert_exporter": "python",
   "pygments_lexer": "ipython3",
   "version": "3.8.3-final"
  },
  "orig_nbformat": 2,
  "kernelspec": {
   "name": "python3",
   "display_name": "Python 3",
   "language": "python"
  }
 },
 "nbformat": 4,
 "nbformat_minor": 2,
 "cells": [
  {
   "cell_type": "code",
   "execution_count": 24,
   "metadata": {},
   "outputs": [
    {
     "output_type": "stream",
     "name": "stdout",
     "text": [
      "9\n"
     ]
    }
   ],
   "source": [
    "#5\n",
    "mening = input(\"Räkna antalet ord i meningen: \")\n",
    "\n",
    "split = mening.split(\" \")\n",
    "split = list(filter(None, split))\n",
    "print(f\"{len(split)}\")"
   ]
  },
  {
   "cell_type": "code",
   "execution_count": 13,
   "metadata": {},
   "outputs": [
    {
     "output_type": "stream",
     "name": "stdout",
     "text": [
      "Rätt!\n",
      "Rätt!\n",
      "Rätt!\n",
      "Rätt!\n",
      "Rätt!\n",
      "Rätt!\n",
      "Rätt!\n",
      "Rätt!\n",
      "Rätt!\n",
      "Rätt!\n"
     ]
    }
   ],
   "source": [
    "#6\n",
    "import random as rnd\n",
    "\n",
    "for i in range(10):\n",
    "    x = rnd.randint(1,10)\n",
    "    y = rnd.randint(1,10)\n",
    "\n",
    "    givet = int(input(f\"Vad är {x} gånger {y}?\" ))\n",
    "\n",
    "    svar = x*y\n",
    "\n",
    "    if givet == svar:\n",
    "        print(\"Rätt!\")\n",
    "    else:\n",
    "        print(\"Fel\")"
   ]
  },
  {
   "cell_type": "code",
   "execution_count": 26,
   "metadata": {},
   "outputs": [
    {
     "output_type": "stream",
     "name": "stdout",
     "text": [
      "1718\n"
     ]
    }
   ],
   "source": [
    "#7 \n",
    "import random as rnd\n",
    "\n",
    "x = 0\n",
    "\n",
    "for i in range(10000):\n",
    "    if rnd.randint(1,6) == 5:\n",
    "        x += 1\n",
    "\n",
    "print(x)"
   ]
  },
  {
   "cell_type": "code",
   "execution_count": 31,
   "metadata": {},
   "outputs": [
    {
     "output_type": "stream",
     "name": "stdout",
     "text": [
      "1 Tusenlappar\n1 Femhundralappar\n2 Tvåhundralappar\n1 Femtiolappar\n1 Tvåkronor\n2 Enkronor\n"
     ]
    }
   ],
   "source": [
    "#0.8\n",
    "summa = int(input(\"Skriv ett tal som ska skrivas ut i sedlar och mynt: \"))\n",
    "\n",
    "Tusenlappar = 0\n",
    "Femhundralappar = 0\n",
    "Tvåhundralappar = 0\n",
    "Hundralappar = 0\n",
    "Femtiolappar = 0\n",
    "Tjugolappar = 0\n",
    "Tiokroner = 0\n",
    "Femkroner = 0\n",
    "Tvåkrona = 0\n",
    "Enkrona = 0\n",
    "\n",
    "while summa > 0:\n",
    "    if summa >= 1000:\n",
    "        Tusenlappar += 1\n",
    "        summa -= 1000\n",
    "\n",
    "    elif summa >= 500:\n",
    "        Femhundralappar += 1\n",
    "        summa -= 500\n",
    "\n",
    "    elif summa > 200:\n",
    "        Tvåhundralappar += 1\n",
    "        summa -= 200\n",
    "\n",
    "    elif summa > 100:\n",
    "        Hundralappar += 1\n",
    "        summa -= 100\n",
    "\n",
    "    elif summa > 50:\n",
    "        Femtiolappar += 1\n",
    "        summa -= 50\n",
    "\n",
    "    elif summa > 20:\n",
    "        Tjugolappar += 1\n",
    "        summa -= 20\n",
    "\n",
    "    elif summa > 10:\n",
    "        Tiokroner += 1\n",
    "        summa -= 10\n",
    "\n",
    "    elif summa > 5:\n",
    "        Femkroner += 1\n",
    "        summa -= 5\n",
    "\n",
    "    elif summa > 2:\n",
    "        Tvåkrona += 1\n",
    "        summa -= 2\n",
    "\n",
    "    else:\n",
    "        Enkrona += 1\n",
    "        summa -= 1\n",
    "\n",
    "if Tusenlappar >= 1:\n",
    "    print(f\"{Tusenlappar} Tusenlappar\")\n",
    "if Femhundralappar >= 1:\n",
    "    print(f\"{Femhundralappar} Femhundralappar\")\n",
    "if Tvåhundralappar >= 1:\n",
    "    print(f\"{Tvåhundralappar} Tvåhundralappar\")\n",
    "if Hundralappar >= 1:\n",
    "    print(f\"{Hundralappar} Hundralappar\")\n",
    "if Femtiolappar >= 1:\n",
    "    print(f\"{Femtiolappar} Femtiolappar\")\n",
    "if Tjugolappar >= 1:\n",
    "    print(f\"{Tjugolappar} Tjugolappar\")\n",
    "if Tiokroner >= 1:\n",
    "    print(f\"{Tiokroner} Tiokronor\")\n",
    "if Femkroner >= 1:\n",
    "    print(f\"{Femkroner} Femkronor\")\n",
    "if Tvåkrona >= 1:\n",
    "    print(f\"{Tvåkrona} Tvåkronor\")\n",
    "if Enkrona >= 1:\n",
    "    print(f\"{Enkrona} Enkronor\")\n",
    "    "
   ]
  },
  {
   "cell_type": "code",
   "execution_count": 31,
   "metadata": {},
   "outputs": [
    {
     "output_type": "stream",
     "name": "stdout",
     "text": [
      "3 tusenlappar, 1 femhundralappar, 1 tvåhundralappar, 1 hundralappar, 1 femtiolappar, 2 tjugolappar, 0 tiokronor, 1 femkronor, 4 enkronor, "
     ]
    }
   ],
   "source": [
    "#8\n",
    "def växla(summa):\n",
    "    kontanter = [1000, 500, 200, 100, 50, 20, 10, 5, 1] # sedlar o mynt\n",
    "    sedlar = [\"tusenlappar\", \"femhundralappar\", \"tvåhundralappar\", \"hundralappar\", \"femtiolappar\", \"tjugolappar\", \"tiokronor\", \"femkronor\", \"enkronor\"] \n",
    "    \n",
    "    for i in range(len(kontanter)): \n",
    "        antal = summa//kontanter[i] # heltalsdivision \n",
    "        summa %= kontanter[i] # ger resten vid heltalsdivision per sedel\n",
    "        print(f\"{antal} {sedlar[i]}\", end=\", \") # skriver ut antal per sedel\n",
    "\n",
    "växla(3899)"
   ]
  },
  {
   "cell_type": "code",
   "execution_count": 25,
   "metadata": {},
   "outputs": [
    {
     "output_type": "stream",
     "name": "stdout",
     "text": [
      "Gissa lägre\n",
      "Gissa lägre\n",
      "Gissa högre\n",
      "Gissa lägre\n",
      "Gissa lägre\n",
      "Grattis det är rätt\n"
     ]
    }
   ],
   "source": [
    "def växla(summa):\n",
    "    kontanter = [1000, 500, 200, 100, 50, 20, 10, 5, 1] # sedlar o mynt\n",
    "    sedlar = [\"tusenlappar\", \"femhundralappar\", \"tvåhundralappar\", \"hundralappar\", \"femtiolappar\", \"tjugolappar\", \"tiokronor\", \"femkronor\", \"enkronor\"] \n",
    "    \n",
    "    for i in range(len(kontanter)): \n",
    "        antal = summa//kontanter[i] # heltalsdivision \n",
    "        summa %= kontanter[i] # ger resten vid heltalsdivision per sedel\n",
    "        print(f\"{antal} {sedlar[i]}\", end=\", \") # skriver ut antal per sedel\n",
    "\n",
    "växla(3899)\n",
    "tal = rng.randint(1,100)\n",
    "\n",
    "\n",
    "while svar != tal:\n",
    "    svar = int(input(\"Gissa ett tal som ligger mellan 1 - 100: \"))\n",
    "\n",
    "    if svar == tal:\n",
    "        print(\"Grattis det är rätt\")\n",
    "    elif svar < tal:\n",
    "        print(\"Gissa högre\")\n",
    "    else:\n",
    "        print(\"Gissa lägre\")"
   ]
  },
  {
   "cell_type": "code",
   "execution_count": 29,
   "metadata": {},
   "outputs": [
    {
     "output_type": "error",
     "ename": "TypeError",
     "evalue": "unsupported operand type(s) for //: 'int' and 'list'",
     "traceback": [
      "\u001b[1;31m---------------------------------------------------------------------------\u001b[0m",
      "\u001b[1;31mTypeError\u001b[0m                                 Traceback (most recent call last)",
      "\u001b[1;32m<ipython-input-29-1bb37516f10f>\u001b[0m in \u001b[0;36m<module>\u001b[1;34m\u001b[0m\n\u001b[0;32m      8\u001b[0m         \u001b[0mprint\u001b[0m\u001b[1;33m(\u001b[0m\u001b[1;34mf\"{antal} {sedlar}\"\u001b[0m\u001b[1;33m,\u001b[0m \u001b[0mend\u001b[0m\u001b[1;33m=\u001b[0m\u001b[1;34m\", \"\u001b[0m\u001b[1;33m)\u001b[0m \u001b[1;31m# skriver ut antal per sedel\u001b[0m\u001b[1;33m\u001b[0m\u001b[1;33m\u001b[0m\u001b[0m\n\u001b[0;32m      9\u001b[0m \u001b[1;33m\u001b[0m\u001b[0m\n\u001b[1;32m---> 10\u001b[1;33m \u001b[0mväxla\u001b[0m\u001b[1;33m(\u001b[0m\u001b[1;36m3899\u001b[0m\u001b[1;33m)\u001b[0m\u001b[1;33m\u001b[0m\u001b[1;33m\u001b[0m\u001b[0m\n\u001b[0m",
      "\u001b[1;32m<ipython-input-29-1bb37516f10f>\u001b[0m in \u001b[0;36mväxla\u001b[1;34m(summa)\u001b[0m\n\u001b[0;32m      4\u001b[0m \u001b[1;33m\u001b[0m\u001b[0m\n\u001b[0;32m      5\u001b[0m     \u001b[1;32mfor\u001b[0m \u001b[0mi\u001b[0m \u001b[1;32min\u001b[0m \u001b[0mrange\u001b[0m\u001b[1;33m(\u001b[0m\u001b[0mlen\u001b[0m\u001b[1;33m(\u001b[0m\u001b[0mkontanter\u001b[0m\u001b[1;33m)\u001b[0m\u001b[1;33m)\u001b[0m\u001b[1;33m:\u001b[0m\u001b[1;33m\u001b[0m\u001b[1;33m\u001b[0m\u001b[0m\n\u001b[1;32m----> 6\u001b[1;33m         \u001b[0mantal\u001b[0m \u001b[1;33m=\u001b[0m \u001b[0msumma\u001b[0m\u001b[1;33m//\u001b[0m\u001b[0mkontanter\u001b[0m \u001b[1;31m# heltalsdivision\u001b[0m\u001b[1;33m\u001b[0m\u001b[1;33m\u001b[0m\u001b[0m\n\u001b[0m\u001b[0;32m      7\u001b[0m         \u001b[0msumma\u001b[0m \u001b[1;33m%=\u001b[0m \u001b[0mkontanter\u001b[0m \u001b[1;31m# ger resten vid heltalsdivision per sedel\u001b[0m\u001b[1;33m\u001b[0m\u001b[1;33m\u001b[0m\u001b[0m\n\u001b[0;32m      8\u001b[0m         \u001b[0mprint\u001b[0m\u001b[1;33m(\u001b[0m\u001b[1;34mf\"{antal} {sedlar}\"\u001b[0m\u001b[1;33m,\u001b[0m \u001b[0mend\u001b[0m\u001b[1;33m=\u001b[0m\u001b[1;34m\", \"\u001b[0m\u001b[1;33m)\u001b[0m \u001b[1;31m# skriver ut antal per sedel\u001b[0m\u001b[1;33m\u001b[0m\u001b[1;33m\u001b[0m\u001b[0m\n",
      "\u001b[1;31mTypeError\u001b[0m: unsupported operand type(s) for //: 'int' and 'list'"
     ]
    }
   ],
   "source": [
    "def växla(summa):\n",
    "    kontanter = [1000, 500, 200, 100, 50, 20, 10, 5, 1] # sedlar o mynt\n",
    "    sedlar = [\"tusenlappar\", \"femhundralappar\", \"tvåhundralappar\", \"hundralappar\", \"femtiolappar\", \"tjugolappar\", \"tiokronor\", \"femkronor\", \"enkronor\"] \n",
    "    \n",
    "    for i in range(len(kontanter)): \n",
    "        antal = summa//kontanter[i] # heltalsdivision \n",
    "        summa %= kontanter[i] # ger resten vid heltalsdivision per sedel\n",
    "        print(f\"{antal} {sedlar[i]}\", end=\", \") # skriver ut antal per sedel\n",
    "\n",
    "växla(3899)"
   ]
  },
  {
   "cell_type": "code",
   "execution_count": null,
   "metadata": {},
   "outputs": [],
   "source": []
  }
 ]
}