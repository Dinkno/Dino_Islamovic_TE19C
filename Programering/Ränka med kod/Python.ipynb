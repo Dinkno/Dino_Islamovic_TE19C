{
 "metadata": {
  "language_info": {
   "codemirror_mode": {
    "name": "ipython",
    "version": 3
   },
   "file_extension": ".py",
   "mimetype": "text/x-python",
   "name": "python",
   "nbconvert_exporter": "python",
   "pygments_lexer": "ipython3",
   "version": "3.8.3-final"
  },
  "orig_nbformat": 2,
  "kernelspec": {
   "name": "python_defaultSpec_1599046034733",
   "display_name": "Python 3.8.3 64-bit ('base': conda)"
  }
 },
 "nbformat": 4,
 "nbformat_minor": 2,
 "cells": [
  {
   "cell_type": "code",
   "execution_count": 3,
   "metadata": {
    "tags": []
   },
   "outputs": [
    {
     "output_type": "stream",
     "name": "stdout",
     "text": "a) 5\nb) 17.0\nc) 127\n"
    }
   ],
   "source": [
    "#uppgift 1\n",
    "print(\"a)\",12-7)\n",
    "print(\"b)\",24/3+9)\n",
    "print(\"c)\",3*43-2)"
   ]
  },
  {
   "cell_type": "code",
   "execution_count": 4,
   "metadata": {
    "tags": []
   },
   "outputs": [
    {
     "output_type": "stream",
     "name": "stdout",
     "text": "Hej!Hur mår du?\n"
    }
   ],
   "source": [
    "#uppgift 2\n",
    "print(\"Hej!Hur mår du?\")"
   ]
  },
  {
   "cell_type": "code",
   "execution_count": 5,
   "metadata": {
    "tags": []
   },
   "outputs": [
    {
     "output_type": "stream",
     "name": "stdout",
     "text": "a) 30\nb) 59\nc) 168\n"
    }
   ],
   "source": [
    "#uppgift 3\n",
    "print(\"a)\",15+15)\n",
    "print(\"b)\",15+15+29)\n",
    "print(\"c)\",15+15+15+29+29+29+12+12+12)"
   ]
  },
  {
   "cell_type": "code",
   "execution_count": 8,
   "metadata": {
    "tags": []
   },
   "outputs": [
    {
     "output_type": "stream",
     "name": "stdout",
     "text": "skriv print(219*45+8) utan citattecken\n"
    }
   ],
   "source": [
    "#uppgift 4\n",
    "print(\"skriv print(219*45+8) utan citattecken\")"
   ]
  },
  {
   "cell_type": "code",
   "execution_count": 11,
   "metadata": {
    "tags": []
   },
   "outputs": [
    {
     "output_type": "stream",
     "name": "stdout",
     "text": "a) Om du kär med hastighete 70 km/h i 1,5 timmat, så hinner du\n105.0 km\nb) Om du kär med hastighete 70 km/h i 1,5 timmat, så hinner du 105.0 km\n"
    }
   ],
   "source": [
    "#uppgift 5\n",
    "print(\"a) Om du kär med hastighete 70 km/h i 1,5 timmat, så hinner du\")\n",
    "print(70*1.5,\"km\")\n",
    "print(\"b) Om du kär med hastighete 70 km/h i 1,5 timmat, så hinner du\",70*1.5,\"km\")"
   ]
  },
  {
   "cell_type": "code",
   "execution_count": null,
   "metadata": {},
   "outputs": [],
   "source": [
    "#uppgift 6\n"
   ]
  }
 ]
}